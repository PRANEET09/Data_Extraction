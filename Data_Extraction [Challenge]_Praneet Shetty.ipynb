{
 "cells": [
  {
   "cell_type": "code",
   "execution_count": 1,
   "metadata": {},
   "outputs": [
    {
     "name": "stdout",
     "output_type": "stream",
     "text": [
      "Requirement already satisfied: webdriver-manager in c:\\users\\praneet shetty\\anaconda3\\lib\\site-packages (2.5.3)\n",
      "Requirement already satisfied: crayons in c:\\users\\praneet shetty\\anaconda3\\lib\\site-packages (from webdriver-manager) (0.3.1)\n",
      "Requirement already satisfied: configparser in c:\\users\\praneet shetty\\anaconda3\\lib\\site-packages (from webdriver-manager) (5.0.0)\n",
      "Requirement already satisfied: requests in c:\\users\\praneet shetty\\anaconda3\\lib\\site-packages (from webdriver-manager) (2.22.0)\n",
      "Requirement already satisfied: colorama in c:\\users\\praneet shetty\\anaconda3\\lib\\site-packages (from crayons->webdriver-manager) (0.4.1)\n",
      "Requirement already satisfied: chardet<3.1.0,>=3.0.2 in c:\\users\\praneet shetty\\anaconda3\\lib\\site-packages (from requests->webdriver-manager) (3.0.4)\n",
      "Requirement already satisfied: certifi>=2017.4.17 in c:\\users\\praneet shetty\\anaconda3\\lib\\site-packages (from requests->webdriver-manager) (2019.9.11)\n",
      "Requirement already satisfied: urllib3!=1.25.0,!=1.25.1,<1.26,>=1.21.1 in c:\\users\\praneet shetty\\anaconda3\\lib\\site-packages (from requests->webdriver-manager) (1.24.2)\n",
      "Requirement already satisfied: idna<2.9,>=2.5 in c:\\users\\praneet shetty\\anaconda3\\lib\\site-packages (from requests->webdriver-manager) (2.8)\n"
     ]
    },
    {
     "name": "stderr",
     "output_type": "stream",
     "text": [
      "WARNING: You are using pip version 20.0.2; however, version 20.3.1 is available.\n",
      "You should consider upgrading via the 'c:\\users\\praneet shetty\\anaconda3\\python.exe -m pip install --upgrade pip' command.\n"
     ]
    }
   ],
   "source": [
    "!pip install webdriver-manager --user"
   ]
  },
  {
   "cell_type": "markdown",
   "metadata": {},
   "source": [
    "#### Loading all the required libraries and packages"
   ]
  },
  {
   "cell_type": "code",
   "execution_count": 2,
   "metadata": {},
   "outputs": [
    {
     "name": "stderr",
     "output_type": "stream",
     "text": [
      "[WDM] - Cache is valid for [08/12/2020]\n",
      "[WDM] - Looking for [chromedriver 86.0.4240.22 win32] driver in cache \n",
      "[WDM] - Driver found in cache [C:\\Users\\Praneet Shetty\\.wdm\\drivers\\chromedriver\\86.0.4240.22\\win32\\chromedriver.exe]\n"
     ]
    },
    {
     "name": "stdout",
     "output_type": "stream",
     "text": [
      " \n"
     ]
    }
   ],
   "source": [
    "#Installing required packages\n",
    "import os,sys,time\n",
    "import requests\n",
    "from selenium import webdriver\n",
    "from bs4 import BeautifulSoup\n",
    "\n",
    "import webdriver_manager\n",
    "from webdriver_manager.chrome import ChromeDriverManager\n",
    "\n",
    "#installing the webdriver\n",
    "browser = webdriver.Chrome(ChromeDriverManager().install())\n",
    "#browser = webdriver.Chrome(executable_path=r'C:/Users/Praneet Shetty/.wdm/drivers/chromedriver/86.0.4240.22/win32/driver')"
   ]
  },
  {
   "cell_type": "code",
   "execution_count": 3,
   "metadata": {},
   "outputs": [],
   "source": [
    "browser.get('https://www.healthline.com/symptom-checker') #Will make the browser go to mentioned website\n",
    "elementID = browser.find_element_by_xpath('//input[@placeholder=\"Find your symptom\"]') # To find the search box in the browser"
   ]
  },
  {
   "cell_type": "markdown",
   "metadata": {},
   "source": [
    "#### Enter your symptoms whose contents needs to be scrapped"
   ]
  },
  {
   "cell_type": "code",
   "execution_count": 4,
   "metadata": {},
   "outputs": [
    {
     "name": "stdout",
     "output_type": "stream",
     "text": [
      "Enter your symptom: dizziness\n"
     ]
    }
   ],
   "source": [
    "val = input(\"Enter your symptom: \") \n",
    "#Enter your symptoms whose contents needs to be scrapped\n"
   ]
  },
  {
   "cell_type": "code",
   "execution_count": 5,
   "metadata": {},
   "outputs": [],
   "source": [
    "elementID.send_keys(val)\n",
    "time.sleep(3)\n",
    "elementID.submit()\n",
    "\n",
    "element = browser.find_elements_by_class_name('css-dj06hy')\n",
    "if len(element)>0:\n",
    "    print('Enter valid search term')"
   ]
  },
  {
   "cell_type": "code",
   "execution_count": 6,
   "metadata": {},
   "outputs": [],
   "source": [
    "#storing the url of the page for scrapping the contents of the symptoms given by user\n",
    "url=browser.current_url \n",
    "browser.get(url)"
   ]
  },
  {
   "cell_type": "code",
   "execution_count": 7,
   "metadata": {},
   "outputs": [
    {
     "name": "stdout",
     "output_type": "stream",
     "text": [
      "The sub heading in the article are: ['Causes', 'Symptoms', 'When to seek help', 'Diagnosis', 'Treatment', 'Home remedies', 'Outlook']\n"
     ]
    }
   ],
   "source": [
    "src = browser.page_source\n",
    "soup_ = BeautifulSoup(src, 'lxml') #parsing the web page to scrapp the contents\n",
    "\n",
    "#Getting the list of all the sub_headings present in the article\n",
    "s=[]\n",
    "ii=soup_.find('ul',{'class':'css-17ztj4b'})\n",
    "for string in ii.strings:\n",
    "    s.append(string)\n",
    "print('The sub heading in the article are:',s)\n"
   ]
  },
  {
   "cell_type": "markdown",
   "metadata": {},
   "source": [
    "#### Storing the contents of each sub-heading present in the article in dictionary "
   ]
  },
  {
   "cell_type": "code",
   "execution_count": 8,
   "metadata": {},
   "outputs": [
    {
     "name": "stdout",
     "output_type": "stream",
     "text": [
      "Excepttion occured in iteration : 0\n"
     ]
    }
   ],
   "source": [
    "name_div = soup_.find_all('div', {'class': 'css-0'}) #name_div contains all the contents of each section of the article\n",
    "#content=[]\n",
    "dict={}\n",
    "for i in range(len(name_div)):\n",
    "    \n",
    "    try:\n",
    "        t=(name_div[i]).a \n",
    "        if t:\n",
    "            for j in range(len(s)):\n",
    "                word=s[j]\n",
    "                if (t['name'].replace('-',' ').lower() == word.lower()):\n",
    "                    #text=name_div[i].get_text().strip()\n",
    "                    list=[]\n",
    "                    for string in name_div[i].strings:\n",
    "                        #print(repr(string))\n",
    "                        list.append(string)\n",
    "                    text='\\n'.join(list)\n",
    "                    dict[s[j]]=text\n",
    "                \n",
    "        else:\n",
    "            text=name_div[0].get_text().strip()\n",
    "            overview=[]\n",
    "            for string in name_div[0].strings:\n",
    "                #print(repr(string))\n",
    "                overview.append(string)\n",
    "            overviews='\\n'.join(overview)\n",
    "            dict['overview']=overviews\n",
    "            continue\n",
    "    except Exception:\n",
    "        #print('No symptoms Found in page')\n",
    "        print('Excepttion occured in iteration :',i)\n",
    "        #text=name_div[0].get_text().strip()\n",
    "        #overview=[]\n",
    "        #for string in name_div[0].strings:\n",
    "         #       #print(repr(string))\n",
    "         #   overview.append(string)\n",
    "         #   overviews='\\n'.join(overview)\n",
    "         #   dict['overview']=overviews\n",
    "        continue"
   ]
  },
  {
   "cell_type": "code",
   "execution_count": 9,
   "metadata": {},
   "outputs": [
    {
     "data": {
      "text/plain": [
       "['Causes',\n",
       " 'Symptoms',\n",
       " 'When to seek help',\n",
       " 'Diagnosis',\n",
       " 'Treatment',\n",
       " 'Home remedies',\n",
       " 'Outlook']"
      ]
     },
     "execution_count": 9,
     "metadata": {},
     "output_type": "execute_result"
    }
   ],
   "source": [
    "s"
   ]
  },
  {
   "cell_type": "code",
   "execution_count": 10,
   "metadata": {},
   "outputs": [
    {
     "data": {
      "text/plain": [
       "{'Causes': ' Causes of dizziness\\nCommon causes of dizziness include a migraine, medications, and alcohol. It can also be caused by a problem in the inner ear, where balance is regulated. \\nDizziness is often a result of vertigo as well. The most common cause of vertigo and vertigo-related dizziness is \\nbenign positional vertigo (BPV)\\n. This causes short-term dizziness when someone changes positions quickly, such as sitting up in bed after lying down. \\nDizziness and vertigo can also be triggered by \\nMeniere’s disease\\n. This causes fluid to build up in the ear with associated ear fullness, hearing loss, and tinnitus. Another possible cause for dizziness and vertigo is an acoustic neuroma. This is a noncancerous tumor that forms on the nerve that connects the inner ear to the brain. \\nSome other possible causes of dizziness include:\\nsudden drop in blood pressure\\nheart muscle disease\\ndecrease in blood volume\\nanxiety disorders\\nanemia\\n (low iron)\\nhypoglycemia\\n (low blood sugar)\\near infection \\ndehydration\\nheat stroke\\nexcessive exercise\\nmotion sickness\\nIn rare cases, dizziness could be caused by \\nmultiple sclerosis\\n, a stroke, a malignant tumor, or another brain disorder.',\n",
       " 'Symptoms': ' Symptoms of dizziness\\nPeople experiencing dizziness may feel various sensations, including:\\nlightheadedness or feeling faint\\na false sense of spinning\\nunsteadiness\\nloss of balance\\nfeeling of floating or swimming\\nSometimes, dizziness is accompanied by nausea, vomiting, or fainting. Seek emergency medical help if you have these symptoms for extended periods. ',\n",
       " 'When to seek help': ' When to call a doctor about dizziness\\nYou should call your doctor if you continue to have repeated bouts of dizziness. You should also notify your doctor immediately if you experience sudden dizziness along with:\\na head injury\\na headache\\na neck ache\\na high fever\\nblurred vision\\nhearing loss\\ndifficulty speaking\\nnumbness or tingling\\ndroopiness of the eye or mouth\\nloss of consciousness\\nchest pain\\nongoing vomiting\\nThese symptoms could indicate a serious health problem, so it’s important to seek medical attention as soon as possible.\\nIf you don’t already have a primary care doctor, the \\nHealthline FindCare tool\\n can help you find a physician in your area.',\n",
       " 'Diagnosis': ' What to expect during your appointment\\nYour doctor can narrow down the cause of dizziness and any other symptoms by performing a physical examination. They’ll ask you questions about your dizziness, including:\\nwhen it occurs\\nin what situations \\nthe severity of symptoms\\nother symptoms that occur with the dizziness\\nYour doctor may also check your eyes and ears, do a neurological physical exam, observe your posture, and perform tests to check balance. Depending on the suspected cause, an imaging test such as a \\nCT scan\\n or MRI might be recommended.\\nIn some cases, no cause for dizziness is determined.',\n",
       " 'Treatment': ' Treatments for dizziness\\nTreatment for dizziness focuses on the underlying cause. In most cases, home remedies and medical treatments can control the cause of dizziness. For example:\\nInner-ear issues may be managed with \\nmedications\\n and at-home exercises that can help control balance. \\nBPV can be resolved with maneuvers that can help alleviate symptoms. Surgery is an option for patients whose BPV is not otherwise controlled.\\nMeniere’s disease is treated with a healthful low-salt diet, occasional injections, or ear surgery. \\nMigraines are treated with \\nmedications\\n and lifestyle changes, such as learning to identify and avoid migraine triggers. \\nMedication and anxiety-reducing techniques can help with anxiety disorders. \\nDrinking plenty of fluids can help when dizziness is caused by excessive exercise, heat, or dehydration. ',\n",
       " 'Home remedies': ' What you can do about dizziness\\nFollow these tips if you have recurrent bouts of dizziness:\\nSit or lie down immediately when you feel dizzy and rest until the dizziness goes away. This can prevent the possibility of losing your balance, which may lead to falling and serious injury.\\nUse a \\ncane\\n or \\nwalker\\n for stability, if necessary.\\nAlways use handrails when walking up or down the stairs. \\nDo activities that improve balance, such as \\nyoga\\n and Tai Chi.\\nAvoid moving or switching positions suddenly.\\nAvoid driving a car or operating heavy machinery if you frequently experience dizziness without warning.\\nAvoid caffeine, alcohol, and tobacco. Using these substances may trigger dizziness or make it worse.\\nDrink at least eight glass of water a day, get seven hours or more of sleep, and avoid stressful situations. \\nEat a healthful diet that consists of vegetables, fruits, and lean proteins to help prevent dizziness. \\nIf you suspect your dizziness is being caused by a medication, talk to your doctor about lowering the dose or switching to another medication.\\nTake an over-the-counter medication, such as \\nmeclizine\\n (Antivert) or an \\nantihistamine\\n, if you experience nausea along with dizziness. These medications may cause drowsiness, so don’t use them when you need to be active or productive. \\nRest in a cool place and drink water if your dizziness is being caused by overheating or dehydration.\\nAlways talk to your doctor if you’re concerned about the frequency or severity of your dizziness.',\n",
       " 'Outlook': ' Outlook for dizziness\\nMost cases of dizziness clear up on their own once the underlying cause is treated. In rare cases, dizziness can be a sign of a more serious health problem. \\nDizziness may result in complications when it causes fainting or a loss of balance. This can be especially dangerous when a person is driving or operating heavy machinery. Use caution if you feel an episode of dizziness coming on. If you become dizzy, stop driving immediately or find a safe place to steady yourself until it passes. '}"
      ]
     },
     "execution_count": 10,
     "metadata": {},
     "output_type": "execute_result"
    }
   ],
   "source": [
    "dict"
   ]
  },
  {
   "cell_type": "code",
   "execution_count": 11,
   "metadata": {},
   "outputs": [
    {
     "name": "stdout",
     "output_type": "stream",
     "text": [
      "Causes:  Causes of dizziness\n",
      "Common causes of dizziness include a migraine, medications, and alcohol. It can also be caused by a problem in the inner ear, where balance is regulated. \n",
      "Dizziness is often a result of vertigo as well. The most common cause of vertigo and vertigo-related dizziness is \n",
      "benign positional vertigo (BPV)\n",
      ". This causes short-term dizziness when someone changes positions quickly, such as sitting up in bed after lying down. \n",
      "Dizziness and vertigo can also be triggered by \n",
      "Meniere’s disease\n",
      ". This causes fluid to build up in the ear with associated ear fullness, hearing loss, and tinnitus. Another possible cause for dizziness and vertigo is an acoustic neuroma. This is a noncancerous tumor that forms on the nerve that connects the inner ear to the brain. \n",
      "Some other possible causes of dizziness include:\n",
      "sudden drop in blood pressure\n",
      "heart muscle disease\n",
      "decrease in blood volume\n",
      "anxiety disorders\n",
      "anemia\n",
      " (low iron)\n",
      "hypoglycemia\n",
      " (low blood sugar)\n",
      "ear infection \n",
      "dehydration\n",
      "heat stroke\n",
      "excessive exercise\n",
      "motion sickness\n",
      "In rare cases, dizziness could be caused by \n",
      "multiple sclerosis\n",
      ", a stroke, a malignant tumor, or another brain disorder.\n",
      "\n",
      "\n",
      "Symptoms:  Symptoms of dizziness\n",
      "People experiencing dizziness may feel various sensations, including:\n",
      "lightheadedness or feeling faint\n",
      "a false sense of spinning\n",
      "unsteadiness\n",
      "loss of balance\n",
      "feeling of floating or swimming\n",
      "Sometimes, dizziness is accompanied by nausea, vomiting, or fainting. Seek emergency medical help if you have these symptoms for extended periods. \n",
      "\n",
      "\n",
      "When to seek help:  When to call a doctor about dizziness\n",
      "You should call your doctor if you continue to have repeated bouts of dizziness. You should also notify your doctor immediately if you experience sudden dizziness along with:\n",
      "a head injury\n",
      "a headache\n",
      "a neck ache\n",
      "a high fever\n",
      "blurred vision\n",
      "hearing loss\n",
      "difficulty speaking\n",
      "numbness or tingling\n",
      "droopiness of the eye or mouth\n",
      "loss of consciousness\n",
      "chest pain\n",
      "ongoing vomiting\n",
      "These symptoms could indicate a serious health problem, so it’s important to seek medical attention as soon as possible.\n",
      "If you don’t already have a primary care doctor, the \n",
      "Healthline FindCare tool\n",
      " can help you find a physician in your area.\n",
      "\n",
      "\n",
      "Diagnosis:  What to expect during your appointment\n",
      "Your doctor can narrow down the cause of dizziness and any other symptoms by performing a physical examination. They’ll ask you questions about your dizziness, including:\n",
      "when it occurs\n",
      "in what situations \n",
      "the severity of symptoms\n",
      "other symptoms that occur with the dizziness\n",
      "Your doctor may also check your eyes and ears, do a neurological physical exam, observe your posture, and perform tests to check balance. Depending on the suspected cause, an imaging test such as a \n",
      "CT scan\n",
      " or MRI might be recommended.\n",
      "In some cases, no cause for dizziness is determined.\n",
      "\n",
      "\n",
      "Treatment:  Treatments for dizziness\n",
      "Treatment for dizziness focuses on the underlying cause. In most cases, home remedies and medical treatments can control the cause of dizziness. For example:\n",
      "Inner-ear issues may be managed with \n",
      "medications\n",
      " and at-home exercises that can help control balance. \n",
      "BPV can be resolved with maneuvers that can help alleviate symptoms. Surgery is an option for patients whose BPV is not otherwise controlled.\n",
      "Meniere’s disease is treated with a healthful low-salt diet, occasional injections, or ear surgery. \n",
      "Migraines are treated with \n",
      "medications\n",
      " and lifestyle changes, such as learning to identify and avoid migraine triggers. \n",
      "Medication and anxiety-reducing techniques can help with anxiety disorders. \n",
      "Drinking plenty of fluids can help when dizziness is caused by excessive exercise, heat, or dehydration. \n",
      "\n",
      "\n",
      "Home remedies:  What you can do about dizziness\n",
      "Follow these tips if you have recurrent bouts of dizziness:\n",
      "Sit or lie down immediately when you feel dizzy and rest until the dizziness goes away. This can prevent the possibility of losing your balance, which may lead to falling and serious injury.\n",
      "Use a \n",
      "cane\n",
      " or \n",
      "walker\n",
      " for stability, if necessary.\n",
      "Always use handrails when walking up or down the stairs. \n",
      "Do activities that improve balance, such as \n",
      "yoga\n",
      " and Tai Chi.\n",
      "Avoid moving or switching positions suddenly.\n",
      "Avoid driving a car or operating heavy machinery if you frequently experience dizziness without warning.\n",
      "Avoid caffeine, alcohol, and tobacco. Using these substances may trigger dizziness or make it worse.\n",
      "Drink at least eight glass of water a day, get seven hours or more of sleep, and avoid stressful situations. \n",
      "Eat a healthful diet that consists of vegetables, fruits, and lean proteins to help prevent dizziness. \n",
      "If you suspect your dizziness is being caused by a medication, talk to your doctor about lowering the dose or switching to another medication.\n",
      "Take an over-the-counter medication, such as \n",
      "meclizine\n",
      " (Antivert) or an \n",
      "antihistamine\n",
      ", if you experience nausea along with dizziness. These medications may cause drowsiness, so don’t use them when you need to be active or productive. \n",
      "Rest in a cool place and drink water if your dizziness is being caused by overheating or dehydration.\n",
      "Always talk to your doctor if you’re concerned about the frequency or severity of your dizziness.\n",
      "\n",
      "\n",
      "Outlook:  Outlook for dizziness\n",
      "Most cases of dizziness clear up on their own once the underlying cause is treated. In rare cases, dizziness can be a sign of a more serious health problem. \n",
      "Dizziness may result in complications when it causes fainting or a loss of balance. This can be especially dangerous when a person is driving or operating heavy machinery. Use caution if you feel an episode of dizziness coming on. If you become dizzy, stop driving immediately or find a safe place to steady yourself until it passes. \n",
      "\n",
      "\n"
     ]
    }
   ],
   "source": [
    "for i in range(len(s)):\n",
    "    print(s[i]+':',dict[s[i]])\n",
    "    print('\\n')"
   ]
  },
  {
   "cell_type": "code",
   "execution_count": null,
   "metadata": {},
   "outputs": [],
   "source": [
    "\"\"\"\n",
    "import pandas as pd\n",
    "df = pd.DataFrame([dict], columns=dict.keys())\n",
    "df\n",
    "\"\"\""
   ]
  },
  {
   "cell_type": "code",
   "execution_count": null,
   "metadata": {},
   "outputs": [],
   "source": [
    "\"\"\"\n",
    "browser.find_element_by_link_text('Symptoms')\n",
    "try:\n",
    "    a=browser.find_element_by_link_text('Symptoms')#go to the symptoms page\n",
    "    b=browser.find_element_by_link_text('Causes')##go to the causes page\n",
    "    #a.click()\n",
    "    src = browser.page_source\n",
    "    soup_ = BeautifulSoup(src, 'lxml')\n",
    "    name_div = soup_.find_all('div', {'class': 'css-0'})\n",
    "    for i in range(len(name_div)):\n",
    "        t=(name_div[i]).a\n",
    "        if t:\n",
    "            if (t['name'] == 'symptoms'):\n",
    "                text=name_div[i].get_text().strip()\n",
    "                symptom=[]\n",
    "                for string in name_div[i].strings:\n",
    "                    #print(repr(string))\n",
    "                    symptom.append(string)\n",
    "                symptoms='\\n'.join(symptom)\n",
    "            elif (t['name'] == 'causes'):\n",
    "                #text=name_div[i].get_text().strip()\n",
    "                cause=[]\n",
    "                for string in name_div[i].strings:\n",
    "                    #print(repr(string))\n",
    "                    cause.append(string)\n",
    "                causes='\\n'.join(cause)\n",
    "except Exception:\n",
    "    print('No symptoms Found in page')\n",
    "\"\"\"\n",
    "\n",
    "\n",
    "\"\"\"\"\n",
    "src = browser.page_source\n",
    "soup_ = BeautifulSoup(src, 'lxml')\n",
    "name_div = soup_.find_all('div', {'class': 'css-0'})\n",
    "for i in range(len(name_div)):\n",
    "    t=(name_div[i]).a\n",
    "    if t:\n",
    "        if (t['name'] == 'symptoms'):\n",
    "            text=name_div[i].get_text().strip()\n",
    "            symptom=[]\n",
    "            for string in name_div[i].strings:\n",
    "                #print(repr(string))\n",
    "                symptom.append(string)\n",
    "            symptoms='\\n'.join(symptom)\n",
    "        elif (t['name'] == 'causes'):\n",
    "            #text=name_div[i].get_text().strip()\n",
    "            cause=[]\n",
    "            for string in name_div[i].strings:\n",
    "                #print(repr(string))\n",
    "                cause.append(string)\n",
    "            causes='\\n'.join(cause)\n",
    "    else:\n",
    "        text=name_div[0].get_text().strip()\n",
    "        overview=[]\n",
    "        for string in name_div[0].strings:\n",
    "            #print(repr(string))\n",
    "            overview.append(string)\n",
    "        overviews='\\n'.join(overview)\n",
    "\"\"\""
   ]
  }
 ],
 "metadata": {
  "kernelspec": {
   "display_name": "Python 3",
   "language": "python",
   "name": "python3"
  },
  "language_info": {
   "codemirror_mode": {
    "name": "ipython",
    "version": 3
   },
   "file_extension": ".py",
   "mimetype": "text/x-python",
   "name": "python",
   "nbconvert_exporter": "python",
   "pygments_lexer": "ipython3",
   "version": "3.7.4"
  }
 },
 "nbformat": 4,
 "nbformat_minor": 2
}
